{
 "cells": [
  {
   "cell_type": "code",
   "execution_count": 21,
   "metadata": {},
   "outputs": [],
   "source": [
    "import pandas as pd"
   ]
  },
  {
   "cell_type": "code",
   "execution_count": 22,
   "metadata": {},
   "outputs": [],
   "source": [
    "data = {'NOMBRE':['maria','julio','ana'], 'CARRERA': ['Ingeniería','Derecho','Médico']}"
   ]
  },
  {
   "cell_type": "code",
   "execution_count": 23,
   "metadata": {},
   "outputs": [
    {
     "name": "stdout",
     "output_type": "stream",
     "text": [
      "  NOMBRE     CARRERA\n",
      "0  maria  Ingeniería\n",
      "1  julio     Derecho\n",
      "2    ana      Médico\n"
     ]
    }
   ],
   "source": [
    "estudiantes = pd.DataFrame(data)\n",
    "print(estudiantes)"
   ]
  },
  {
   "cell_type": "code",
   "execution_count": 24,
   "metadata": {},
   "outputs": [
    {
     "name": "stdout",
     "output_type": "stream",
     "text": [
      "  Nombre  Edad\n",
      "0  Maria    27\n",
      "1  Julio    23\n",
      "2    Ana    18\n"
     ]
    }
   ],
   "source": [
    "df = pd.DataFrame([['Maria',27],['Julio',23],['Ana',18]],columns=['Nombre','Edad'])\n",
    "print(df)"
   ]
  },
  {
   "cell_type": "markdown",
   "metadata": {},
   "source": [
    "# DataFrame a partir de un array"
   ]
  },
  {
   "cell_type": "code",
   "execution_count": 25,
   "metadata": {},
   "outputs": [
    {
     "name": "stdout",
     "output_type": "stream",
     "text": [
      "[[ 1.32793059 -0.94834225 -0.53830599]\n",
      " [-0.42605813  0.4957831  -0.12363729]\n",
      " [-0.0811221   0.08477854 -0.29152326]\n",
      " [ 0.82996772 -0.59477148 -0.689721  ]]\n"
     ]
    }
   ],
   "source": [
    "import numpy as np\n",
    "\n",
    "df_ale = np.random.randn(4,3)\n",
    "print(df_ale)\n"
   ]
  },
  {
   "cell_type": "code",
   "execution_count": 26,
   "metadata": {},
   "outputs": [
    {
     "name": "stdout",
     "output_type": "stream",
     "text": [
      "          a         b         c\n",
      "0  1.327931 -0.948342 -0.538306\n",
      "1 -0.426058  0.495783 -0.123637\n",
      "2 -0.081122  0.084779 -0.291523\n",
      "3  0.829968 -0.594771 -0.689721\n"
     ]
    }
   ],
   "source": [
    "df = pd.DataFrame(df_ale, columns=['a','b','c'])\n",
    "print(df)"
   ]
  }
 ],
 "metadata": {
  "kernelspec": {
   "display_name": "venv",
   "language": "python",
   "name": "python3"
  },
  "language_info": {
   "codemirror_mode": {
    "name": "ipython",
    "version": 3
   },
   "file_extension": ".py",
   "mimetype": "text/x-python",
   "name": "python",
   "nbconvert_exporter": "python",
   "pygments_lexer": "ipython3",
   "version": "3.10.12"
  },
  "orig_nbformat": 4
 },
 "nbformat": 4,
 "nbformat_minor": 2
}
